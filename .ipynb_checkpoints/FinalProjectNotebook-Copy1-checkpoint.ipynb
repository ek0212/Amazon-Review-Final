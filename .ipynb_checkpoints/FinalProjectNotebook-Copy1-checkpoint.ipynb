{
 "cells": [
  {
   "cell_type": "markdown",
   "metadata": {},
   "source": [
    "# Data Preprocessing"
   ]
  },
  {
   "cell_type": "code",
   "execution_count": 2,
   "metadata": {
    "scrolled": true
   },
   "outputs": [
    {
     "data": {
      "text/html": [
       "<div>\n",
       "<style scoped>\n",
       "    .dataframe tbody tr th:only-of-type {\n",
       "        vertical-align: middle;\n",
       "    }\n",
       "\n",
       "    .dataframe tbody tr th {\n",
       "        vertical-align: top;\n",
       "    }\n",
       "\n",
       "    .dataframe thead th {\n",
       "        text-align: right;\n",
       "    }\n",
       "</style>\n",
       "<table border=\"1\" class=\"dataframe\">\n",
       "  <thead>\n",
       "    <tr style=\"text-align: right;\">\n",
       "      <th></th>\n",
       "      <th>reviewerID</th>\n",
       "      <th>asin</th>\n",
       "      <th>reviewerName</th>\n",
       "      <th>helpful</th>\n",
       "      <th>reviewText</th>\n",
       "      <th>overall</th>\n",
       "      <th>summary</th>\n",
       "      <th>unixReviewTime</th>\n",
       "      <th>reviewTime</th>\n",
       "    </tr>\n",
       "  </thead>\n",
       "  <tbody>\n",
       "    <tr>\n",
       "      <th>0</th>\n",
       "      <td>APYOBQE6M18AA</td>\n",
       "      <td>0615391206</td>\n",
       "      <td>Martin Schwartz</td>\n",
       "      <td>[0, 0]</td>\n",
       "      <td>My daughter wanted this book and the price on ...</td>\n",
       "      <td>5</td>\n",
       "      <td>Best Price</td>\n",
       "      <td>1382140800</td>\n",
       "      <td>10 19, 2013</td>\n",
       "    </tr>\n",
       "    <tr>\n",
       "      <th>1</th>\n",
       "      <td>A1JVQTAGHYOL7F</td>\n",
       "      <td>0615391206</td>\n",
       "      <td>Michelle Dinh</td>\n",
       "      <td>[0, 0]</td>\n",
       "      <td>I bought this zoku quick pop for my daughterr ...</td>\n",
       "      <td>5</td>\n",
       "      <td>zoku</td>\n",
       "      <td>1403049600</td>\n",
       "      <td>06 18, 2014</td>\n",
       "    </tr>\n",
       "    <tr>\n",
       "      <th>2</th>\n",
       "      <td>A3UPYGJKZ0XTU4</td>\n",
       "      <td>0615391206</td>\n",
       "      <td>mirasreviews</td>\n",
       "      <td>[26, 27]</td>\n",
       "      <td>There is no shortage of pop recipes available ...</td>\n",
       "      <td>4</td>\n",
       "      <td>Excels at Sweet Dessert Pops, but Falls Short ...</td>\n",
       "      <td>1367712000</td>\n",
       "      <td>05 5, 2013</td>\n",
       "    </tr>\n",
       "    <tr>\n",
       "      <th>3</th>\n",
       "      <td>A2MHCTX43MIMDZ</td>\n",
       "      <td>0615391206</td>\n",
       "      <td>M. Johnson \"Tea Lover\"</td>\n",
       "      <td>[14, 18]</td>\n",
       "      <td>This book is a must have if you get a Zoku (wh...</td>\n",
       "      <td>5</td>\n",
       "      <td>Creative Combos</td>\n",
       "      <td>1312416000</td>\n",
       "      <td>08 4, 2011</td>\n",
       "    </tr>\n",
       "    <tr>\n",
       "      <th>4</th>\n",
       "      <td>AHAI85T5C2DH3</td>\n",
       "      <td>0615391206</td>\n",
       "      <td>PugLover</td>\n",
       "      <td>[0, 0]</td>\n",
       "      <td>This cookbook is great.  I have really enjoyed...</td>\n",
       "      <td>4</td>\n",
       "      <td>A must own if you own the Zoku maker...</td>\n",
       "      <td>1402099200</td>\n",
       "      <td>06 7, 2014</td>\n",
       "    </tr>\n",
       "  </tbody>\n",
       "</table>\n",
       "</div>"
      ],
      "text/plain": [
       "       reviewerID        asin            reviewerName   helpful  \\\n",
       "0   APYOBQE6M18AA  0615391206         Martin Schwartz    [0, 0]   \n",
       "1  A1JVQTAGHYOL7F  0615391206           Michelle Dinh    [0, 0]   \n",
       "2  A3UPYGJKZ0XTU4  0615391206            mirasreviews  [26, 27]   \n",
       "3  A2MHCTX43MIMDZ  0615391206  M. Johnson \"Tea Lover\"  [14, 18]   \n",
       "4   AHAI85T5C2DH3  0615391206                PugLover    [0, 0]   \n",
       "\n",
       "                                          reviewText  overall  \\\n",
       "0  My daughter wanted this book and the price on ...        5   \n",
       "1  I bought this zoku quick pop for my daughterr ...        5   \n",
       "2  There is no shortage of pop recipes available ...        4   \n",
       "3  This book is a must have if you get a Zoku (wh...        5   \n",
       "4  This cookbook is great.  I have really enjoyed...        4   \n",
       "\n",
       "                                             summary  unixReviewTime  \\\n",
       "0                                         Best Price      1382140800   \n",
       "1                                               zoku      1403049600   \n",
       "2  Excels at Sweet Dessert Pops, but Falls Short ...      1367712000   \n",
       "3                                    Creative Combos      1312416000   \n",
       "4            A must own if you own the Zoku maker...      1402099200   \n",
       "\n",
       "    reviewTime  \n",
       "0  10 19, 2013  \n",
       "1  06 18, 2014  \n",
       "2   05 5, 2013  \n",
       "3   08 4, 2011  \n",
       "4   06 7, 2014  "
      ]
     },
     "execution_count": 2,
     "metadata": {},
     "output_type": "execute_result"
    }
   ],
   "source": [
    "import json\n",
    "import pandas as pd    \n",
    "\n",
    "# json_file = \"KindleStoreReviews.json\"\n",
    "json_file = \"../HomeKitchenReviews.json\"\n",
    "df = pd.read_json(json_file,lines=True)\n",
    "df.head()"
   ]
  },
  {
   "cell_type": "code",
   "execution_count": 3,
   "metadata": {},
   "outputs": [],
   "source": [
    "df_copy = df.copy()"
   ]
  },
  {
   "cell_type": "code",
   "execution_count": 4,
   "metadata": {},
   "outputs": [
    {
     "data": {
      "text/html": [
       "<div>\n",
       "<style scoped>\n",
       "    .dataframe tbody tr th:only-of-type {\n",
       "        vertical-align: middle;\n",
       "    }\n",
       "\n",
       "    .dataframe tbody tr th {\n",
       "        vertical-align: top;\n",
       "    }\n",
       "\n",
       "    .dataframe thead th {\n",
       "        text-align: right;\n",
       "    }\n",
       "</style>\n",
       "<table border=\"1\" class=\"dataframe\">\n",
       "  <thead>\n",
       "    <tr style=\"text-align: right;\">\n",
       "      <th></th>\n",
       "      <th>reviewerID</th>\n",
       "      <th>asin</th>\n",
       "      <th>reviewerName</th>\n",
       "      <th>helpful</th>\n",
       "      <th>reviewText</th>\n",
       "      <th>overall</th>\n",
       "      <th>summary</th>\n",
       "      <th>unixReviewTime</th>\n",
       "      <th>reviewTime</th>\n",
       "      <th>helpful_1</th>\n",
       "      <th>helpful_2</th>\n",
       "      <th>helpfulness</th>\n",
       "      <th>helpful_category</th>\n",
       "    </tr>\n",
       "  </thead>\n",
       "  <tbody>\n",
       "    <tr>\n",
       "      <th>2</th>\n",
       "      <td>A3UPYGJKZ0XTU4</td>\n",
       "      <td>0615391206</td>\n",
       "      <td>mirasreviews</td>\n",
       "      <td>[26, 27]</td>\n",
       "      <td>There is no shortage of pop recipes available ...</td>\n",
       "      <td>4</td>\n",
       "      <td>Excels at Sweet Dessert Pops, but Falls Short ...</td>\n",
       "      <td>1367712000</td>\n",
       "      <td>05 5, 2013</td>\n",
       "      <td>26</td>\n",
       "      <td>27</td>\n",
       "      <td>0.962963</td>\n",
       "      <td>1</td>\n",
       "    </tr>\n",
       "    <tr>\n",
       "      <th>3</th>\n",
       "      <td>A2MHCTX43MIMDZ</td>\n",
       "      <td>0615391206</td>\n",
       "      <td>M. Johnson \"Tea Lover\"</td>\n",
       "      <td>[14, 18]</td>\n",
       "      <td>This book is a must have if you get a Zoku (wh...</td>\n",
       "      <td>5</td>\n",
       "      <td>Creative Combos</td>\n",
       "      <td>1312416000</td>\n",
       "      <td>08 4, 2011</td>\n",
       "      <td>14</td>\n",
       "      <td>18</td>\n",
       "      <td>0.777778</td>\n",
       "      <td>1</td>\n",
       "    </tr>\n",
       "    <tr>\n",
       "      <th>6</th>\n",
       "      <td>A1SW2D234X11MS</td>\n",
       "      <td>0615391206</td>\n",
       "      <td>savinggrace \"savinggrace\"</td>\n",
       "      <td>[2, 3]</td>\n",
       "      <td>This book is so beautifully illustrated and ea...</td>\n",
       "      <td>5</td>\n",
       "      <td>Beautifully illustrated recipe and instruction...</td>\n",
       "      <td>1341187200</td>\n",
       "      <td>07 2, 2012</td>\n",
       "      <td>2</td>\n",
       "      <td>3</td>\n",
       "      <td>0.666667</td>\n",
       "      <td>1</td>\n",
       "    </tr>\n",
       "    <tr>\n",
       "      <th>7</th>\n",
       "      <td>A1ZH5ULI4SBO48</td>\n",
       "      <td>0615391206</td>\n",
       "      <td>S. G. \"s.g.\"</td>\n",
       "      <td>[32, 39]</td>\n",
       "      <td>I bought this when I bought the pop maker. I t...</td>\n",
       "      <td>2</td>\n",
       "      <td>Okay but you can figure it out yourself withou...</td>\n",
       "      <td>1323302400</td>\n",
       "      <td>12 8, 2011</td>\n",
       "      <td>32</td>\n",
       "      <td>39</td>\n",
       "      <td>0.820513</td>\n",
       "      <td>1</td>\n",
       "    </tr>\n",
       "    <tr>\n",
       "      <th>8</th>\n",
       "      <td>A1V13XAWO98C1J</td>\n",
       "      <td>0615391206</td>\n",
       "      <td>Stan \"Stan\"</td>\n",
       "      <td>[13, 13]</td>\n",
       "      <td>The Zoku accessories are pricey, but the recip...</td>\n",
       "      <td>5</td>\n",
       "      <td>If you have the Zoku maker, buy this!</td>\n",
       "      <td>1316649600</td>\n",
       "      <td>09 22, 2011</td>\n",
       "      <td>13</td>\n",
       "      <td>13</td>\n",
       "      <td>1.000000</td>\n",
       "      <td>1</td>\n",
       "    </tr>\n",
       "    <tr>\n",
       "      <th>...</th>\n",
       "      <td>...</td>\n",
       "      <td>...</td>\n",
       "      <td>...</td>\n",
       "      <td>...</td>\n",
       "      <td>...</td>\n",
       "      <td>...</td>\n",
       "      <td>...</td>\n",
       "      <td>...</td>\n",
       "      <td>...</td>\n",
       "      <td>...</td>\n",
       "      <td>...</td>\n",
       "      <td>...</td>\n",
       "      <td>...</td>\n",
       "    </tr>\n",
       "    <tr>\n",
       "      <th>551655</th>\n",
       "      <td>AWFGKB5SCJAO2</td>\n",
       "      <td>B00LB18EKK</td>\n",
       "      <td>allowingplace</td>\n",
       "      <td>[1, 1]</td>\n",
       "      <td>Super handy little set for the kitchen! I have...</td>\n",
       "      <td>5</td>\n",
       "      <td>GREATER GRATER!!</td>\n",
       "      <td>1405382400</td>\n",
       "      <td>07 15, 2014</td>\n",
       "      <td>1</td>\n",
       "      <td>1</td>\n",
       "      <td>1.000000</td>\n",
       "      <td>1</td>\n",
       "    </tr>\n",
       "    <tr>\n",
       "      <th>551656</th>\n",
       "      <td>A1Q1Z7IR79G52A</td>\n",
       "      <td>B00LB18EKK</td>\n",
       "      <td>Ann Ingersoll Madison Rain \"Ann\"</td>\n",
       "      <td>[1, 1]</td>\n",
       "      <td>Great grater for all kinds of cheese! Parmesan...</td>\n",
       "      <td>5</td>\n",
       "      <td>Love this grater and apple slicer! Works so we...</td>\n",
       "      <td>1405296000</td>\n",
       "      <td>07 14, 2014</td>\n",
       "      <td>1</td>\n",
       "      <td>1</td>\n",
       "      <td>1.000000</td>\n",
       "      <td>1</td>\n",
       "    </tr>\n",
       "    <tr>\n",
       "      <th>551657</th>\n",
       "      <td>A2FU5LRHY17OY2</td>\n",
       "      <td>B00LB18EKK</td>\n",
       "      <td>CanHave</td>\n",
       "      <td>[1, 1]</td>\n",
       "      <td>Absolutely love this grater. If cheese could b...</td>\n",
       "      <td>5</td>\n",
       "      <td>If cheese could be crisp</td>\n",
       "      <td>1405036800</td>\n",
       "      <td>07 11, 2014</td>\n",
       "      <td>1</td>\n",
       "      <td>1</td>\n",
       "      <td>1.000000</td>\n",
       "      <td>1</td>\n",
       "    </tr>\n",
       "    <tr>\n",
       "      <th>551669</th>\n",
       "      <td>A1KQNP8MOJDJKC</td>\n",
       "      <td>B00LB18EKK</td>\n",
       "      <td>RS</td>\n",
       "      <td>[1, 1]</td>\n",
       "      <td>Love both the products, The apple cutter is su...</td>\n",
       "      <td>5</td>\n",
       "      <td>Love both the products</td>\n",
       "      <td>1405209600</td>\n",
       "      <td>07 13, 2014</td>\n",
       "      <td>1</td>\n",
       "      <td>1</td>\n",
       "      <td>1.000000</td>\n",
       "      <td>1</td>\n",
       "    </tr>\n",
       "    <tr>\n",
       "      <th>551680</th>\n",
       "      <td>A1KQNP8MOJDJKC</td>\n",
       "      <td>B00LBFUU12</td>\n",
       "      <td>RS</td>\n",
       "      <td>[1, 1]</td>\n",
       "      <td>I love these ice pop makers. First off, I love...</td>\n",
       "      <td>5</td>\n",
       "      <td>love them</td>\n",
       "      <td>1405209600</td>\n",
       "      <td>07 13, 2014</td>\n",
       "      <td>1</td>\n",
       "      <td>1</td>\n",
       "      <td>1.000000</td>\n",
       "      <td>1</td>\n",
       "    </tr>\n",
       "  </tbody>\n",
       "</table>\n",
       "<p>248634 rows × 13 columns</p>\n",
       "</div>"
      ],
      "text/plain": [
       "            reviewerID        asin                      reviewerName  \\\n",
       "2       A3UPYGJKZ0XTU4  0615391206                      mirasreviews   \n",
       "3       A2MHCTX43MIMDZ  0615391206            M. Johnson \"Tea Lover\"   \n",
       "6       A1SW2D234X11MS  0615391206         savinggrace \"savinggrace\"   \n",
       "7       A1ZH5ULI4SBO48  0615391206                      S. G. \"s.g.\"   \n",
       "8       A1V13XAWO98C1J  0615391206                       Stan \"Stan\"   \n",
       "...                ...         ...                               ...   \n",
       "551655   AWFGKB5SCJAO2  B00LB18EKK                     allowingplace   \n",
       "551656  A1Q1Z7IR79G52A  B00LB18EKK  Ann Ingersoll Madison Rain \"Ann\"   \n",
       "551657  A2FU5LRHY17OY2  B00LB18EKK                           CanHave   \n",
       "551669  A1KQNP8MOJDJKC  B00LB18EKK                                RS   \n",
       "551680  A1KQNP8MOJDJKC  B00LBFUU12                                RS   \n",
       "\n",
       "         helpful                                         reviewText  overall  \\\n",
       "2       [26, 27]  There is no shortage of pop recipes available ...        4   \n",
       "3       [14, 18]  This book is a must have if you get a Zoku (wh...        5   \n",
       "6         [2, 3]  This book is so beautifully illustrated and ea...        5   \n",
       "7       [32, 39]  I bought this when I bought the pop maker. I t...        2   \n",
       "8       [13, 13]  The Zoku accessories are pricey, but the recip...        5   \n",
       "...          ...                                                ...      ...   \n",
       "551655    [1, 1]  Super handy little set for the kitchen! I have...        5   \n",
       "551656    [1, 1]  Great grater for all kinds of cheese! Parmesan...        5   \n",
       "551657    [1, 1]  Absolutely love this grater. If cheese could b...        5   \n",
       "551669    [1, 1]  Love both the products, The apple cutter is su...        5   \n",
       "551680    [1, 1]  I love these ice pop makers. First off, I love...        5   \n",
       "\n",
       "                                                  summary  unixReviewTime  \\\n",
       "2       Excels at Sweet Dessert Pops, but Falls Short ...      1367712000   \n",
       "3                                         Creative Combos      1312416000   \n",
       "6       Beautifully illustrated recipe and instruction...      1341187200   \n",
       "7       Okay but you can figure it out yourself withou...      1323302400   \n",
       "8                   If you have the Zoku maker, buy this!      1316649600   \n",
       "...                                                   ...             ...   \n",
       "551655                                   GREATER GRATER!!      1405382400   \n",
       "551656  Love this grater and apple slicer! Works so we...      1405296000   \n",
       "551657                           If cheese could be crisp      1405036800   \n",
       "551669                             Love both the products      1405209600   \n",
       "551680                                          love them      1405209600   \n",
       "\n",
       "         reviewTime  helpful_1  helpful_2  helpfulness  helpful_category  \n",
       "2        05 5, 2013         26         27     0.962963                 1  \n",
       "3        08 4, 2011         14         18     0.777778                 1  \n",
       "6        07 2, 2012          2          3     0.666667                 1  \n",
       "7        12 8, 2011         32         39     0.820513                 1  \n",
       "8       09 22, 2011         13         13     1.000000                 1  \n",
       "...             ...        ...        ...          ...               ...  \n",
       "551655  07 15, 2014          1          1     1.000000                 1  \n",
       "551656  07 14, 2014          1          1     1.000000                 1  \n",
       "551657  07 11, 2014          1          1     1.000000                 1  \n",
       "551669  07 13, 2014          1          1     1.000000                 1  \n",
       "551680  07 13, 2014          1          1     1.000000                 1  \n",
       "\n",
       "[248634 rows x 13 columns]"
      ]
     },
     "execution_count": 4,
     "metadata": {},
     "output_type": "execute_result"
    }
   ],
   "source": [
    "df['helpful_1'] = [l[0] for l in df['helpful']]\n",
    "df['helpful_2'] = [l[1] for l in df['helpful']]\n",
    "df['helpfulness'] = df['helpful_1']/df['helpful_2']\n",
    "\n",
    "df = df[df['helpfulness'].notna()]\n",
    "\n",
    "df['helpful_category'] = df['helpfulness'].map(lambda x: 1 if x>=0.5 else 0)\n",
    "df"
   ]
  },
  {
   "cell_type": "code",
   "execution_count": 5,
   "metadata": {},
   "outputs": [
    {
     "data": {
      "text/plain": [
       "1    30682\n",
       "0    29475\n",
       "Name: helpful_category, dtype: int64"
      ]
     },
     "execution_count": 5,
     "metadata": {},
     "output_type": "execute_result"
    }
   ],
   "source": [
    "df = df.drop(df[df['helpful_category'] == 1].sample(frac=0.86).index)\n",
    "df.helpful_category.value_counts()\n",
    "\n",
    "\n",
    "# df = df.drop(df[df['helpful_category'] == 1].sample(frac=0.62).index)\n",
    "# df.helpful_category.value_counts()\n",
    "\n",
    "# df[(df['helpful_category'] != 1) | (np.random.rand(len(df)) < 0.86)]\n",
    "# df.helpful_category.value_counts()\n"
   ]
  },
  {
   "cell_type": "code",
   "execution_count": 6,
   "metadata": {},
   "outputs": [
    {
     "data": {
      "image/png": "[encoded data removed]",
      "text/plain": [
       "<Figure size 432x288 with 1 Axes>"
      ]
     },
     "metadata": {
      "needs_background": "light"
     },
     "output_type": "display_data"
    }
   ],
   "source": [
    "import pandas as pd\n",
    "import matplotlib.pyplot as plt\n",
    "\n",
    "fig, ax = plt.subplots()\n",
    "\n",
    "\n",
    "df_hist = pd.DataFrame()\n",
    "df_hist[\"Helpful Category Distribution\"] = df[\"helpful_category\"]\n",
    "\n",
    "df_hist.hist('Helpful Category Distribution', ax=ax)\n",
    "plt.xlabel('Label')\n",
    "plt.ylabel('Number of Reviews')\n",
    "fig.savefig('helpful_category_distribution.png')\n",
    "\n"
   ]
  },
  {
   "cell_type": "markdown",
   "metadata": {},
   "source": [
    "# Model"
   ]
  },
  {
   "cell_type": "code",
   "execution_count": 8,
   "metadata": {},
   "outputs": [],
   "source": [
    "import pandas as pd\n",
    "import numpy as np\n",
    "import matplotlib.pyplot as plt\n",
    "import seaborn as sns\n",
    "import gc\n",
    "\n",
    "from sklearn.linear_model import LogisticRegression\n",
    "from sklearn.model_selection import StratifiedKFold\n",
    "from sklearn.feature_extraction.text import CountVectorizer,TfidfVectorizer\n",
    "from sklearn.decomposition import TruncatedSVD\n",
    "from sklearn.metrics import log_loss,confusion_matrix,classification_report,roc_curve,auc\n",
    "\n",
    "import string\n",
    "import nltk\n",
    "from nltk.corpus import stopwords\n",
    "from nltk.tokenize import word_tokenize\n",
    "from scipy import sparse\n",
    "%matplotlib inline\n",
    "seed = 42\n",
    "import os\n",
    "os.environ['OMP_NUM_THREADS'] = '4'\n",
    "\n",
    "import matplotlib.pyplot as plt\n",
    "import seaborn as sns\n",
    "from sklearn import metrics\n",
    "\n",
    "from sklearn.model_selection import train_test_split"
   ]
  },
  {
   "cell_type": "code",
   "execution_count": 9,
   "metadata": {},
   "outputs": [],
   "source": [
    "vect_word = TfidfVectorizer(max_features=20000, lowercase=True, analyzer='word',\n",
    "                        stop_words= 'english',ngram_range=(1,4),dtype=np.float32)\n",
    "# vect_char = TfidfVectorizer(max_features=40000, lowercase=True, analyzer='char',\n",
    "#                         stop_words= 'english',ngram_range=(3,6),dtype=np.float32)"
   ]
  },
  {
   "cell_type": "code",
   "execution_count": 10,
   "metadata": {},
   "outputs": [
    {
     "name": "stdout",
     "output_type": "stream",
     "text": [
      "60157\n",
      "60157\n",
      "<class 'numpy.ndarray'>\n"
     ]
    }
   ],
   "source": [
    "X = np.array(df[\"reviewText\"])\n",
    "y = np.array(df[\"helpful_category\"])\n",
    "print(len(X))\n",
    "print(len(y))\n",
    "print(type(X))"
   ]
  },
  {
   "cell_type": "code",
   "execution_count": 11,
   "metadata": {},
   "outputs": [
    {
     "name": "stdout",
     "output_type": "stream",
     "text": [
      "1\n",
      "2\n"
     ]
    },
    {
     "name": "stderr",
     "output_type": "stream",
     "text": [
      "/opt/miniconda3/lib/python3.7/site-packages/sklearn/linear_model/_logistic.py:765: ConvergenceWarning: lbfgs failed to converge (status=1):\n",
      "STOP: TOTAL NO. of ITERATIONS REACHED LIMIT.\n",
      "\n",
      "Increase the number of iterations (max_iter) or scale the data as shown in:\n",
      "    https://scikit-learn.org/stable/modules/preprocessing.html\n",
      "Please also refer to the documentation for alternative solver options:\n",
      "    https://scikit-learn.org/stable/modules/linear_model.html#logistic-regression\n",
      "  extra_warning_msg=_LOGISTIC_SOLVER_CONVERGENCE_MSG)\n"
     ]
    },
    {
     "name": "stdout",
     "output_type": "stream",
     "text": [
      "              precision    recall  f1-score   support\n",
      "\n",
      "           0       0.61      0.61      0.61      9727\n",
      "           1       0.63      0.63      0.63     10125\n",
      "\n",
      "    accuracy                           0.62     19852\n",
      "   macro avg       0.62      0.62      0.62     19852\n",
      "weighted avg       0.62      0.62      0.62     19852\n",
      "\n"
     ]
    },
    {
     "data": {
      "image/png": "[encoded data removed]",
      "text/plain": [
       "<Figure size 648x648 with 2 Axes>"
      ]
     },
     "metadata": {
      "needs_background": "light"
     },
     "output_type": "display_data"
    }
   ],
   "source": [
    "X_train, X_test, y_train, y_test = train_test_split(X, y, test_size=0.33, random_state=42, stratify = y)\n",
    "\n",
    "X_test_copy = X_test.copy()\n",
    "y_test_copy = y_test.copy()\n",
    "\n",
    "print(\"1\")\n",
    "tr_vect = vect_word.fit_transform(X_train)\n",
    "ts_vect = vect_word.transform(X_test)\n",
    "print(\"2\")\n",
    "\n",
    "#     tr_vect_char = vect_char.fit_transform(X_train)\n",
    "#     ts_vect_char = vect_char.transform(X_test)\n",
    "#     print(\"2\")\n",
    "\n",
    "#     X = sparse.hstack([tr_vect, tr_vect_char])\n",
    "#     x_test = sparse.hstack([ts_vect, ts_vect_char])\n",
    "X_train = sparse.hstack([tr_vect])\n",
    "X_test = sparse.hstack([ts_vect])\n",
    "\n",
    "#     prd = np.zeros((x_test.shape[0],y_train.shape[1]))\n",
    "\n",
    "lr = LogisticRegression(C=2,random_state = 42,class_weight = 'balanced')\n",
    "lr.fit(X_train,y_train)\n",
    "pred =  lr.predict(X_test)\n",
    "score = lr.score(X_test, y_test)\n",
    "cm = metrics.confusion_matrix(y_test, pred)\n",
    "plt.figure(figsize=(9,9))\n",
    "sns.heatmap(cm, annot=True, fmt=\".3f\", linewidths=.5, square = True, cmap = 'Blues_r');\n",
    "plt.ylabel('Actual label');\n",
    "plt.xlabel('Predicted label');\n",
    "all_sample_title = 'Accuracy Score: {0}'.format(score)\n",
    "plt.title(all_sample_title, size = 15);\n",
    "#     print('\\nConfusion matrix\\n',confusion_matrix(y_test,pred))\n",
    "print(classification_report(y_test,pred))\n",
    "plt.savefig(\"confusion_matrix.png\")"
   ]
  },
  {
   "cell_type": "markdown",
   "metadata": {},
   "source": [
    "# Classification Output"
   ]
  },
  {
   "cell_type": "code",
   "execution_count": 12,
   "metadata": {},
   "outputs": [
    {
     "ename": "NameError",
     "evalue": "name 'y_hats' is not defined",
     "output_type": "error",
     "traceback": [
      "\u001b[0;31m---------------------------------------------------------------------------\u001b[0m",
      "\u001b[0;31mNameError\u001b[0m                                 Traceback (most recent call last)",
      "\u001b[0;32m<ipython-input-12-06d134981769>\u001b[0m in \u001b[0;36m<module>\u001b[0;34m\u001b[0m\n\u001b[1;32m      4\u001b[0m \u001b[0;34m\u001b[0m\u001b[0m\n\u001b[1;32m      5\u001b[0m \u001b[0mdf_results\u001b[0m \u001b[0;34m=\u001b[0m \u001b[0mpd\u001b[0m\u001b[0;34m.\u001b[0m\u001b[0mDataFrame\u001b[0m\u001b[0;34m(\u001b[0m\u001b[0;34m)\u001b[0m\u001b[0;34m\u001b[0m\u001b[0;34m\u001b[0m\u001b[0m\n\u001b[0;32m----> 6\u001b[0;31m \u001b[0mdf_results\u001b[0m\u001b[0;34m[\u001b[0m\u001b[0;34m\"Prediction\"\u001b[0m\u001b[0;34m]\u001b[0m \u001b[0;34m=\u001b[0m \u001b[0my_hats\u001b[0m\u001b[0;34m[\u001b[0m\u001b[0;36m0\u001b[0m\u001b[0;34m]\u001b[0m\u001b[0;34m\u001b[0m\u001b[0;34m\u001b[0m\u001b[0m\n\u001b[0m\u001b[1;32m      7\u001b[0m \u001b[0mdf_results\u001b[0m\u001b[0;34m[\u001b[0m\u001b[0;34m\"Actual\"\u001b[0m\u001b[0;34m]\u001b[0m \u001b[0;34m=\u001b[0m \u001b[0my_test_copy\u001b[0m\u001b[0;34m[\u001b[0m\u001b[0;36m0\u001b[0m\u001b[0;34m]\u001b[0m\u001b[0;34m\u001b[0m\u001b[0;34m\u001b[0m\u001b[0m\n\u001b[1;32m      8\u001b[0m \u001b[0mdf_results\u001b[0m\u001b[0;34m[\u001b[0m\u001b[0;34m\"Text\"\u001b[0m\u001b[0;34m]\u001b[0m \u001b[0;34m=\u001b[0m \u001b[0mX_test_copy\u001b[0m\u001b[0;34m[\u001b[0m\u001b[0;36m0\u001b[0m\u001b[0;34m]\u001b[0m\u001b[0;34m\u001b[0m\u001b[0;34m\u001b[0m\u001b[0m\n",
      "\u001b[0;31mNameError\u001b[0m: name 'y_hats' is not defined"
     ]
    }
   ],
   "source": [
    "# y_hats  = pd.DataFrame(pred).reset_index()\n",
    "# y_test_copy = pd.DataFrame(y_test_copy).reset_index()\n",
    "# X_test_copy = pd.DataFrame(X_test_copy).reset_index()\n",
    "\n",
    "df_results = pd.DataFrame()\n",
    "df_results[\"Prediction\"] = y_hats[0]\n",
    "df_results[\"Actual\"] = y_test_copy[0]\n",
    "df_results[\"Text\"] = X_test_copy[0]\n",
    "df_results.head()\n",
    "df_results.to_csv(\"df_results.csv\")"
   ]
  },
  {
   "cell_type": "code",
   "execution_count": 1,
   "metadata": {},
   "outputs": [
    {
     "ename": "NameError",
     "evalue": "name 'df_results' is not defined",
     "output_type": "error",
     "traceback": [
      "\u001b[0;31m---------------------------------------------------------------------------\u001b[0m",
      "\u001b[0;31mNameError\u001b[0m                                 Traceback (most recent call last)",
      "\u001b[0;32m<ipython-input-1-70a805c452db>\u001b[0m in \u001b[0;36m<module>\u001b[0;34m\u001b[0m\n\u001b[0;32m----> 1\u001b[0;31m \u001b[0mdf_results_correct\u001b[0m \u001b[0;34m=\u001b[0m \u001b[0mdf_results\u001b[0m\u001b[0;34m.\u001b[0m\u001b[0mloc\u001b[0m\u001b[0;34m[\u001b[0m\u001b[0;34m(\u001b[0m\u001b[0mdf_results\u001b[0m\u001b[0;34m[\u001b[0m\u001b[0;34m'Actual'\u001b[0m\u001b[0;34m]\u001b[0m \u001b[0;34m==\u001b[0m \u001b[0;36m1\u001b[0m\u001b[0;34m)\u001b[0m \u001b[0;34m&\u001b[0m \u001b[0;34m(\u001b[0m\u001b[0mdf_results\u001b[0m\u001b[0;34m[\u001b[0m\u001b[0;34m'Prediction'\u001b[0m\u001b[0;34m]\u001b[0m \u001b[0;34m==\u001b[0m \u001b[0;36m1\u001b[0m\u001b[0;34m)\u001b[0m\u001b[0;34m]\u001b[0m\u001b[0;34m\u001b[0m\u001b[0;34m\u001b[0m\u001b[0m\n\u001b[0m\u001b[1;32m      2\u001b[0m \u001b[0mdf_results\u001b[0m\u001b[0;34m\u001b[0m\u001b[0;34m\u001b[0m\u001b[0m\n",
      "\u001b[0;31mNameError\u001b[0m: name 'df_results' is not defined"
     ]
    }
   ],
   "source": [
    "df_results_helpful = df_results.loc[(df_results['Actual'] == 1) & (df_results['Prediction'] == 1)]\n",
    "df_results_helpful"
   ]
  },
  {
   "cell_type": "code",
   "execution_count": null,
   "metadata": {},
   "outputs": [],
   "source": [
    "df_results_unhelpful = df_results.loc[(df_results['Actual'] == 0) & (df_results['Prediction'] == 0)]\n",
    "df_results_unhelpful"
   ]
  },
  {
   "cell_type": "code",
   "execution_count": null,
   "metadata": {},
   "outputs": [],
   "source": [
    "df_results_incorrect = df_results.loc[((df_results['Actual'] == 0) & (df_results['Prediction'] == 1)) or ((df_results['Actual'] == 1) & (df_results['Prediction'] == 0))]\n",
    "df_results_incorrect\n"
   ]
  },
  {
   "cell_type": "markdown",
   "metadata": {},
   "source": [
    "# Sentiment Analysis"
   ]
  },
  {
   "cell_type": "code",
   "execution_count": null,
   "metadata": {},
   "outputs": [],
   "source": [
    "from nltk.sentiment.vader import SentimentIntensityAnalyzer\n",
    "from nltk import sentiment\n",
    "from nltk import word_tokenize\n",
    "import nltk\n",
    "nltk.download('vader_lexicon')\n",
    "nltk.download('punkt')"
   ]
  },
  {
   "cell_type": "code",
   "execution_count": null,
   "metadata": {},
   "outputs": [],
   "source": [
    "#initialize vader module\n",
    "sid = SentimentIntensityAnalyzer()\n",
    "# splits text into sentences/words\n",
    "tokenizer = nltk.data.load('tokenizers/punkt/english.pickle')"
   ]
  },
  {
   "cell_type": "code",
   "execution_count": null,
   "metadata": {},
   "outputs": [],
   "source": [
    "# print sentiment distribution for entire snippet collection \n",
    "def sentimentDistributionCalc(tokenizedSnippets):\n",
    "    posNum = 0\n",
    "    negNum = 0\n",
    "    neuNum = 0 \n",
    "    for snippet in tokenizedSnippets:\n",
    "        scores = sid.polarity_scores(snippet)\n",
    "        for key in sorted(scores):\n",
    "            if (scores['pos']>scores['neg'] and scores['pos']>scores['neu']):\n",
    "                posNum += 1\n",
    "                print(\"POSITIVE:\", snippet)\n",
    "            elif (scores['neu']>scores['neg'] and scores['neu']>scores['pos']):\n",
    "                neuNum += 1\n",
    "            elif (scores['neg']>scores['neu'] and scores['neg']>scores['pos']):\n",
    "                negNum += 1      \n",
    "                print(\"NEGATIVE:\", snippet)\n",
    "\n",
    "    \n",
    "    total = posNum+negNum+neuNum\n",
    "\n",
    "    print(\"Percentage positive:\", (posNum/total)*100)\n",
    "    print(\"Percentage negative:\", (negNum/total)*100)\n",
    "    print(\"Percentage neutral:\", (neuNum/total)*100)\n",
    "    if(negNum!=0 and posNum!=0):\n",
    "        print(\"negative:positive ratio\", negNum/posNum)"
   ]
  },
  {
   "cell_type": "code",
   "execution_count": null,
   "metadata": {},
   "outputs": [],
   "source": [
    "# print sentiment distribution for entire snippet collection \n",
    "def makePie(tokenizedSnippets):\n",
    "    posNum = 0\n",
    "    negNum = 0\n",
    "    neuNum = 0 \n",
    "    for snippet in tokenizedSnippets:\n",
    "        scores = sid.polarity_scores(snippet)\n",
    "        \n",
    "        for key in sorted(scores):\n",
    "            if (scores['pos']>scores['neg'] and scores['pos']>scores['neu']):\n",
    "                posNum += 1\n",
    "            elif (scores['neu']>scores['neg'] and scores['neu']>scores['pos']):\n",
    "                neuNum += 1\n",
    "            elif (scores['neg']>scores['neu'] and scores['neg']>scores['pos']):\n",
    "                negNum += 1\n",
    "    \n",
    "    df = pd.DataFrame(\n",
    "        {'sentiment': ['Positive', 'Negative', 'Neutral'],\n",
    "       'count': [posNum, negNum, neuNum]},\n",
    "        index=['Positive', 'Negative','Neutral']\n",
    "        )\n",
    "    \n",
    "    plot = df.plot.pie(y='count', figsize=(6, 6))\n",
    "    \n",
    "    if(negNum!=0 and posNum!=0):\n",
    "        df2 = pd.DataFrame(\n",
    "            {'sentiment': ['Positive', 'Negative'],\n",
    "           'count': [posNum, negNum]}, \n",
    "            index=['Positive', 'Negative']\n",
    "            )\n",
    "\n",
    "        plot = df2.plot.pie(y='count', figsize=(4, 4))"
   ]
  },
  {
   "cell_type": "code",
   "execution_count": null,
   "metadata": {},
   "outputs": [],
   "source": [
    "helpfulSnippets = []\n",
    "for e in df_results_helpful[df_results_helpful[\"Text\"]]: \n",
    "    helpfulSnippets.append(e)\n",
    "helpfulSnippetsTokenized = tokenizer.tokenize(''.join(helpfulSnippets))\n",
    "sentimentDistributionCalc(helpfulSnippetsTokenized)\n",
    "makePie(helpfulSnippetsTokenized)\n"
   ]
  },
  {
   "cell_type": "code",
   "execution_count": null,
   "metadata": {},
   "outputs": [],
   "source": [
    "unhelpfulSnippets = []\n",
    "for e in df_results_unhelpful[df_results_unhelpful[\"Text\"]]: \n",
    "    unhelpfulSnippets.append(e)\n",
    "unhelpfulSnippetsTokenized = tokenizer.tokenize(''.join(unhelpfulSnippets))\n",
    "sentimentDistributionCalc(unhelpfulSnippetsTokenized)\n",
    "makePie(unhelpfulSnippetsTokenized)\n"
   ]
  },
  {
   "cell_type": "code",
   "execution_count": null,
   "metadata": {},
   "outputs": [],
   "source": [
    "incorrectSnippets = []\n",
    "for e in df_results_helpful[df_results_incorrect[\"Text\"]]: \n",
    "    incorrectSnippets.append(e)\n",
    "helpfulSnippetsTokenized = tokenizer.tokenize(''.join(helpfulSnippets))\n",
    "sentimentDistributionCalc(helpfulSnippetsTokenized)\n",
    "makePie(helpfulSnippetsTokenized)\n"
   ]
  }
 ],
 "metadata": {
  "kernelspec": {
   "display_name": "Python 3",
   "language": "python",
   "name": "python3"
  },
  "language_info": {
   "codemirror_mode": {
    "name": "ipython",
    "version": 3
   },
   "file_extension": ".py",
   "mimetype": "text/x-python",
   "name": "python",
   "nbconvert_exporter": "python",
   "pygments_lexer": "ipython3",
   "version": "3.7.6"
  }
 },
 "nbformat": 4,
 "nbformat_minor": 4
}
